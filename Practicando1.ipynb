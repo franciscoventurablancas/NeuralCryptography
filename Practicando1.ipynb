{
  "nbformat": 4,
  "nbformat_minor": 0,
  "metadata": {
    "colab": {
      "name": "Practicando1.ipynb",
      "provenance": []
    },
    "kernelspec": {
      "name": "python3",
      "display_name": "Python 3"
    },
    "language_info": {
      "name": "python"
    }
  },
  "cells": [
    {
      "cell_type": "code",
      "metadata": {
        "colab": {
          "base_uri": "https://localhost:8080/"
        },
        "id": "INCql9ZqxGxp",
        "outputId": "1978583f-9012-4aed-b74a-8360f16603c9"
      },
      "source": [
        "class Dog(object):\n",
        "    def __init__(self, name, age):\n",
        "        self.name = name\n",
        "        self.age = age\n",
        " \n",
        "    def sit(self):\n",
        "        print(self.name.title() + ' is now sitting.')\n",
        " \n",
        "    def roll_over(self):\n",
        "        print(self.name.title() + ' is now rolling over.')\n",
        " \n",
        " \n",
        "my_dog = Dog('Willie', 6)\n",
        "print(\"my dog's name is \" + my_dog.name.title() + \".\")\n",
        "print('my dog is ' + str(my_dog.age) + '.')\n",
        "my_dog.sit()\n",
        "my_dog.roll_over()"
      ],
      "execution_count": 2,
      "outputs": [
        {
          "output_type": "stream",
          "name": "stdout",
          "text": [
            "my dog's name is Willie.\n",
            "my dog is 6.\n",
            "Willie is now sitting.\n",
            "Willie is now rolling over.\n"
          ]
        }
      ]
    }
  ]
}