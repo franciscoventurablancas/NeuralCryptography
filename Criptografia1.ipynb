{
  "nbformat": 4,
  "nbformat_minor": 0,
  "metadata": {
    "colab": {
      "name": "Criptografia1.ipynb",
      "provenance": []
    },
    "kernelspec": {
      "name": "python3",
      "display_name": "Python 3"
    },
    "language_info": {
      "name": "python"
    }
  },
  "cells": [
    {
      "cell_type": "code",
      "metadata": {
        "colab": {
          "base_uri": "https://localhost:8080/",
          "height": 870
        },
        "id": "HGLaxY32v1TN",
        "outputId": "09e054c0-751b-402e-f97b-bc35aae02f71"
      },
      "source": [
        "#Instituto Politecnico Nacional (Centro de Investigación en Computación)\n",
        "#Alumno Francisco Ventura Blancas\n",
        "\n",
        "import requests\n",
        "import re\n",
        "import matplotlib.pyplot as plt\n",
        "import json\n",
        "import pandas as pd \n",
        "\n",
        "#repositorio donde tengo el archivo\n",
        "# https://github.com/franciscoventurablancas/CIC_IPN/blob/master/Criptografia/poema.txt\n",
        "# https://raw.githubusercontent.com/franciscoventurablancas/CIC_IPN/master/Criptografia/abecedario.txt\n",
        "\n",
        "response = requests.get('https://raw.githubusercontent.com/franciscoventurablancas/CIC_IPN/master/Criptografia/poema.txt') #obtengo via Https el contenido del archivo\n",
        "text = response.text\n",
        "text = text.lower()\n",
        "text = re.sub(\"[^\\w ]\", \"\", text)\n",
        "words = text.split(\" \")\n",
        "\n",
        "print(\"Imprime contenido del archivo : \\n\" +text + \"\\n\\n\")\n",
        "\n",
        "res = {} \n",
        "for keys in text:\n",
        "    res[keys] = res.get(keys, 0) + 1\n",
        "\n",
        "\n",
        "# Imprimo el diccionario\n",
        "print (\"Imprime diccionario : \\n\"+  str(res)+ \"\\n\\n\")\n",
        "\n",
        "\n",
        "print (\"Imprimo una llave del diccionario : \\n\")\n",
        "\n",
        "res['a'] #Imprimo una llave del diccionario\n",
        "\n",
        "\n",
        "plt.bar(res.keys(), res.values())\n",
        "\n",
        "\n",
        "print(json.dumps(res, sort_keys=True, indent=4))\n"
      ],
      "execution_count": 81,
      "outputs": [
        {
          "output_type": "stream",
          "name": "stdout",
          "text": [
            "Imprime contenido del archivo : \n",
            "if you forget me  pablo nerudai want you to knowone thingyou know how this isif i lookat the crystal moon at the red branchof the slow autumn at my windowif i touchnear the firethe impalpable ashor the wrinkled body of the logeverything carries me to youas if everything that existsaromas light metalswere little boatsthat sailtoward those isles of yours that wait for me\n",
            "\n",
            "\n",
            "Imprime diccionario : \n",
            "{'i': 23, 'f': 10, ' ': 63, 'y': 10, 'o': 31, 'u': 9, 'r': 18, 'g': 6, 'e': 30, 't': 36, 'm': 9, 'p': 3, 'a': 25, 'b': 5, 'l': 14, 'n': 14, 'd': 6, 'w': 11, 'k': 4, 'h': 20, 's': 17, 'c': 4, 'v': 2, 'x': 1}\n",
            "\n",
            "\n",
            "Imprimo una llave del diccionario : \n",
            "\n",
            "{\n",
            "    \" \": 63,\n",
            "    \"a\": 25,\n",
            "    \"b\": 5,\n",
            "    \"c\": 4,\n",
            "    \"d\": 6,\n",
            "    \"e\": 30,\n",
            "    \"f\": 10,\n",
            "    \"g\": 6,\n",
            "    \"h\": 20,\n",
            "    \"i\": 23,\n",
            "    \"k\": 4,\n",
            "    \"l\": 14,\n",
            "    \"m\": 9,\n",
            "    \"n\": 14,\n",
            "    \"o\": 31,\n",
            "    \"p\": 3,\n",
            "    \"r\": 18,\n",
            "    \"s\": 17,\n",
            "    \"t\": 36,\n",
            "    \"u\": 9,\n",
            "    \"v\": 2,\n",
            "    \"w\": 11,\n",
            "    \"x\": 1,\n",
            "    \"y\": 10\n",
            "}\n"
          ]
        },
        {
          "output_type": "display_data",
          "data": {
            "image/png": "[encoded data removed]",
            "text/plain": [
              "<Figure size 432x288 with 1 Axes>"
            ]
          },
          "metadata": {
            "needs_background": "light"
          }
        }
      ]
    }
  ]
}