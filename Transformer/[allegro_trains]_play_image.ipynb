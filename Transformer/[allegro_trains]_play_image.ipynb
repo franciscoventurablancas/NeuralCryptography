{
  "nbformat": 4,
  "nbformat_minor": 0,
  "metadata": {
    "kernelspec": {
      "display_name": "Python 3",
      "language": "python",
      "name": "python3"
    },
    "language_info": {
      "codemirror_mode": {
        "name": "ipython",
        "version": 3
      },
      "file_extension": ".py",
      "mimetype": "text/x-python",
      "name": "python",
      "nbconvert_exporter": "python",
      "pygments_lexer": "ipython3",
      "version": "3.8.5"
    },
    "colab": {
      "name": "[allegro trains] play_image.ipynb",
      "provenance": [],
      "toc_visible": true
    }
  },
  "cells": [
    {
      "cell_type": "markdown",
      "metadata": {
        "id": "XHsykt4ejA2X"
      },
      "source": [
        "## Train GPT on images\n",
        "\n",
        "Effectively re-implements OpenAI's [Image GPT](https://openai.com/blog/image-gpt/) model, getting GPT to model images instead of text, but using a near identical model. It's truly quite remarkable that a single model can agnostically do a great job modeling whatever data you give it: text, images, or whatever else. At the end of the day it is just a sequence of integers. Notice that unlike models like PixelCNN++ etc, this model knows nothing at all about the spatial layout of the pixels and has to learn the appropriate positional embeddings that reflect the spatial topology of the data."
      ]
    },
    {
      "cell_type": "code",
      "metadata": {
        "id": "y_ceyc6tHYjY",
        "colab": {
          "base_uri": "https://localhost:8080/",
          "height": 547
        },
        "outputId": "ca255f13-8103-4881-c8f5-adfec0a5edd8"
      },
      "source": [
        "!git clone https://github.com/karpathy/minGPT.git\n",
        "%cd minGPT\n",
        "!pip install trains"
      ],
      "execution_count": null,
      "outputs": [
        {
          "output_type": "stream",
          "text": [
            "fatal: destination path 'minGPT' already exists and is not an empty directory.\n",
            "/content/minGPT\n",
            "Requirement already satisfied: trains in /usr/local/lib/python3.6/dist-packages (0.16.0)\n",
            "Requirement already satisfied: typing>=3.6.4 in /usr/local/lib/python3.6/dist-packages (from trains) (3.7.4.3)\n",
            "Requirement already satisfied: funcsigs>=1.0 in /usr/local/lib/python3.6/dist-packages (from trains) (1.0.2)\n",
            "Requirement already satisfied: Pillow>=4.1.1 in /usr/local/lib/python3.6/dist-packages (from trains) (7.0.0)\n",
            "Requirement already satisfied: requests>=2.20.0 in /usr/local/lib/python3.6/dist-packages (from trains) (2.23.0)\n",
            "Requirement already satisfied: six>=1.11.0 in /usr/local/lib/python3.6/dist-packages (from trains) (1.15.0)\n",
            "Requirement already satisfied: pyjwt>=1.6.4 in /usr/local/lib/python3.6/dist-packages (from trains) (1.7.1)\n",
            "Requirement already satisfied: attrs>=18.0 in /usr/local/lib/python3.6/dist-packages (from trains) (19.3.0)\n",
            "Requirement already satisfied: future>=0.16.0 in /usr/local/lib/python3.6/dist-packages (from trains) (0.16.0)\n",
            "Requirement already satisfied: jsonschema>=2.6.0 in /usr/local/lib/python3.6/dist-packages (from trains) (2.6.0)\n",
            "Requirement already satisfied: plotly>=3.9.0 in /usr/local/lib/python3.6/dist-packages (from trains) (4.4.1)\n",
            "Requirement already satisfied: furl>=2.0.0 in /usr/local/lib/python3.6/dist-packages (from trains) (2.1.0)\n",
            "Requirement already satisfied: PyYAML>=3.12 in /usr/local/lib/python3.6/dist-packages (from trains) (3.13)\n",
            "Requirement already satisfied: pyparsing>=2.0.3 in /usr/local/lib/python3.6/dist-packages (from trains) (2.4.7)\n",
            "Requirement already satisfied: humanfriendly>=2.1 in /usr/local/lib/python3.6/dist-packages (from trains) (8.2)\n",
            "Requirement already satisfied: numpy>=1.10 in /usr/local/lib/python3.6/dist-packages (from trains) (1.18.5)\n",
            "Requirement already satisfied: pathlib2>=2.3.0 in /usr/local/lib/python3.6/dist-packages (from trains) (2.3.5)\n",
            "Requirement already satisfied: psutil>=3.4.2 in /usr/local/lib/python3.6/dist-packages (from trains) (5.4.8)\n",
            "Requirement already satisfied: tqdm>=4.19.5 in /usr/local/lib/python3.6/dist-packages (from trains) (4.41.1)\n",
            "Requirement already satisfied: requests-file>=1.4.2 in /usr/local/lib/python3.6/dist-packages (from trains) (1.5.1)\n",
            "Requirement already satisfied: python-dateutil>=2.6.1 in /usr/local/lib/python3.6/dist-packages (from trains) (2.8.1)\n",
            "Requirement already satisfied: urllib3>=1.21.1 in /usr/local/lib/python3.6/dist-packages (from trains) (1.24.3)\n",
            "Requirement already satisfied: chardet<4,>=3.0.2 in /usr/local/lib/python3.6/dist-packages (from requests>=2.20.0->trains) (3.0.4)\n",
            "Requirement already satisfied: certifi>=2017.4.17 in /usr/local/lib/python3.6/dist-packages (from requests>=2.20.0->trains) (2020.6.20)\n",
            "Requirement already satisfied: idna<3,>=2.5 in /usr/local/lib/python3.6/dist-packages (from requests>=2.20.0->trains) (2.10)\n",
            "Requirement already satisfied: retrying>=1.3.3 in /usr/local/lib/python3.6/dist-packages (from plotly>=3.9.0->trains) (1.3.3)\n",
            "Requirement already satisfied: orderedmultidict>=1.0.1 in /usr/local/lib/python3.6/dist-packages (from furl>=2.0.0->trains) (1.0.1)\n"
          ],
          "name": "stdout"
        }
      ]
    },
    {
      "cell_type": "code",
      "metadata": {
        "id": "BA5NyUXBjA2Z"
      },
      "source": [
        "import numpy as np\n",
        "import torchvision\n",
        "import torch\n",
        "import matplotlib.pyplot as plt\n",
        "%matplotlib inline"
      ],
      "execution_count": null,
      "outputs": []
    },
    {
      "cell_type": "code",
      "metadata": {
        "id": "18OP7E3Jomjf",
        "colab": {
          "base_uri": "https://localhost:8080/",
          "height": 72
        },
        "outputId": "c2a71631-b6cc-461c-ebf6-665127bf4c47"
      },
      "source": [
        "from trains import Task\n",
        "colab_task = Task.init(project_name='minGPT',task_name='test play_image')"
      ],
      "execution_count": null,
      "outputs": [
        {
          "output_type": "stream",
          "text": [
            "TRAINS Task: overwriting (reusing) task id=9f41c971b45c4c0c93a4f7472b1cd1b9\n",
            "TRAINS results page: https://demoapp.trains.allegro.ai/projects/27f1be9a79a549778b4e655eb3231572/experiments/9f41c971b45c4c0c93a4f7472b1cd1b9/output/log\n"
          ],
          "name": "stdout"
        }
      ]
    },
    {
      "cell_type": "code",
      "metadata": {
        "id": "eolp8__cjA2e"
      },
      "source": [
        "# set up logging\n",
        "import logging\n",
        "logging.basicConfig(\n",
        "        format=\"%(asctime)s - %(levelname)s - %(name)s -   %(message)s\",\n",
        "        datefmt=\"%m/%d/%Y %H:%M:%S\",\n",
        "        level=logging.INFO,\n",
        ")"
      ],
      "execution_count": null,
      "outputs": []
    },
    {
      "cell_type": "code",
      "metadata": {
        "id": "a8MUPy3hjA2i"
      },
      "source": [
        "# make deterministic\n",
        "from mingpt.utils import set_seed\n",
        "set_seed(42)"
      ],
      "execution_count": null,
      "outputs": []
    },
    {
      "cell_type": "code",
      "metadata": {
        "id": "ZGCmPPOojA2m",
        "colab": {
          "base_uri": "https://localhost:8080/",
          "height": 52
        },
        "outputId": "fe43a82b-ee12-44de-a7f4-751bf41eeddd"
      },
      "source": [
        "# pytorch helpfully makes it easy to download datasets, e.g. the common CIFAR-10 https://www.kaggle.com/c/cifar-10\n",
        "root = './'\n",
        "data = torchvision.datasets.CIFAR10(root, train=True, transform=None, target_transform=None, download=True)\n",
        "print(len(data))"
      ],
      "execution_count": null,
      "outputs": [
        {
          "output_type": "stream",
          "text": [
            "Files already downloaded and verified\n",
            "50000\n"
          ],
          "name": "stdout"
        }
      ]
    },
    {
      "cell_type": "markdown",
      "metadata": {
        "id": "rSpsgPJVjA2t"
      },
      "source": [
        "Images are represented as array of size (height, width, 3), where is the RGB values, each is a uint8 in range 0..255. In CIFAR-10 for example, the height and width are both 32. \n",
        "\n",
        "**naive strategy**\n",
        "Now, to feed images into GPT we have to somehow turn every image into a sequence of integers. Since each image is 32\\*32\\*3 = 3072 uint8s, in principle we could just flatten each image out into a 3072-long sequence of numbers from 0..255 and train GPT on that. Note that we are free to feed this into GPT in any random arbitrary order, as long as the encoding order is fixed for all images. The problem with this is that GPT gets very expensive as you grow the sequence size, since each new predicted integer is a function of all previously predicted integers in the sequence, and the attention inside the Transformer modules gets very expensive.\n",
        "\n",
        "**k-means codebook strategy**\n",
        "Instead, the Image GPT strategy is to encode every individual RGB pixel into a codebook of 512 entries, which we train via the k-means clustering algorithm. This way, we only have a 32\\*32 = 1024-long sequence, but now of integers in the range 0..511. This is a net saving in compute because we're \"shrunk\" the sequence length by a factor of 3. On the other hand, our token encoding embedding parameters grow a bit in size, as well as the size of the Softmax classifier at the end.\n",
        "\n",
        "Okay let's train our codebook with k-means now"
      ]
    },
    {
      "cell_type": "code",
      "metadata": {
        "id": "cyFi0txDjA2t",
        "colab": {
          "base_uri": "https://localhost:8080/",
          "height": 34
        },
        "outputId": "7aa7ad6a-ea1e-4d8b-9163-347323c137e7"
      },
      "source": [
        "# get random 5 pixels per image and stack them all up as rgb values to get half a million random pixels\n",
        "px = torch.cat([torch.from_numpy(np.array(x)).view(32*32, 3)[torch.randperm(32*32)[:5], :] for x, y in data], dim=0).float()\n",
        "print(px.size())"
      ],
      "execution_count": null,
      "outputs": [
        {
          "output_type": "stream",
          "text": [
            "torch.Size([250000, 3])\n"
          ],
          "name": "stdout"
        }
      ]
    },
    {
      "cell_type": "code",
      "metadata": {
        "id": "bs5PG270jA2x",
        "colab": {
          "base_uri": "https://localhost:8080/",
          "height": 175
        },
        "outputId": "5f5d4e3c-7a6e-4e5d-b598-e77204bb7044"
      },
      "source": [
        "# run kmeans to get our codebook\n",
        "\n",
        "def kmeans(x, ncluster, niter=10):\n",
        "    N, D = x.size()\n",
        "    c = x[torch.randperm(N)[:ncluster]] # init clusters at random\n",
        "    for i in range(niter):\n",
        "        # assign all pixels to the closest codebook element\n",
        "        a = ((x[:, None, :] - c[None, :, :])**2).sum(-1).argmin(1)\n",
        "        # move each codebook element to be the mean of the pixels that assigned to it\n",
        "        c = torch.stack([x[a==k].mean(0) for k in range(ncluster)])\n",
        "        # re-assign any poorly positioned codebook elements\n",
        "        nanix = torch.any(torch.isnan(c), dim=1)\n",
        "        ndead = nanix.sum().item()\n",
        "        print('done step %d/%d, re-initialized %d dead clusters' % (i+1, niter, ndead))\n",
        "        c[nanix] = x[torch.randperm(N)[:ndead]] # re-init dead clusters\n",
        "    return c\n",
        "\n",
        "ncluster = 128 # was 512\n",
        "\n",
        "with torch.no_grad():\n",
        "    C = kmeans(px, ncluster, niter=8)\n",
        "\n",
        "print(C.size())"
      ],
      "execution_count": null,
      "outputs": [
        {
          "output_type": "stream",
          "text": [
            "done step 1/8, re-initialized 0 dead clusters\n",
            "done step 2/8, re-initialized 0 dead clusters\n",
            "done step 3/8, re-initialized 0 dead clusters\n",
            "done step 4/8, re-initialized 0 dead clusters\n",
            "done step 5/8, re-initialized 0 dead clusters\n",
            "done step 6/8, re-initialized 0 dead clusters\n",
            "done step 7/8, re-initialized 0 dead clusters\n",
            "done step 8/8, re-initialized 0 dead clusters\n",
            "torch.Size([128, 3])\n"
          ],
          "name": "stdout"
        }
      ]
    },
    {
      "cell_type": "code",
      "metadata": {
        "id": "jq9qXiZFjA20",
        "colab": {
          "base_uri": "https://localhost:8080/",
          "height": 227
        },
        "outputId": "12b39057-c73b-47e8-8f15-0c765ee56c58"
      },
      "source": [
        "# encode the training examples with our codebook to visualize how much we've lost in the discretization\n",
        "n_samples = 16\n",
        "ncol = 8\n",
        "nrow = n_samples // ncol + 1\n",
        "plt.figure(figsize=(20, 10))\n",
        "for i in range(n_samples):\n",
        "    \n",
        "    # encode and decode random data\n",
        "    x, y = data[np.random.randint(0, len(data))]\n",
        "    xpt = torch.from_numpy(np.array(x)).float().view(32*32, 3)\n",
        "    ix = ((xpt[:, None, :] - C[None, :, :])**2).sum(-1).argmin(1) # cluster assignments for each pixel\n",
        "    \n",
        "    # these images should look normal ideally\n",
        "    plt.subplot(nrow, ncol, i+1)\n",
        "    plt.imshow(C[ix].view(32, 32, 3).numpy().astype(np.uint8))\n",
        "    plt.axis('off')"
      ],
      "execution_count": null,
      "outputs": [
        {
          "output_type": "display_data",
          "data": {
            "image/png": "[encoded data removed]",
            "text/plain": [
              "<Figure size 1440x720 with 16 Axes>"
            ]
          },
          "metadata": {
            "tags": [],
            "needs_background": "light"
          }
        }
      ]
    },
    {
      "cell_type": "markdown",
      "metadata": {
        "id": "IToIlk-1jA25"
      },
      "source": [
        "The images above look relatively reasonable, so our 512-sized codebook is enough to reasonably re-represent RGB values. Ok cool. So now every image is just a 3072-long sequence of numbers between 0..511. Time to train a GPT."
      ]
    },
    {
      "cell_type": "code",
      "metadata": {
        "id": "gtFkNCSujA26",
        "colab": {
          "base_uri": "https://localhost:8080/",
          "height": 34
        },
        "outputId": "67a771dc-a5ae-4d1a-89e7-e69cfd98f1cf"
      },
      "source": [
        "from torch.utils.data import Dataset\n",
        "\n",
        "class ImageDataset(Dataset):\n",
        "    \"\"\"\n",
        "    wrap up the pytorch CIFAR-10 dataset into our own, which will convert images into sequences of integers\n",
        "    \"\"\"\n",
        "    \n",
        "    def __init__(self, pt_dataset, clusters, perm=None):\n",
        "        self.pt_dataset = pt_dataset\n",
        "        self.clusters = clusters\n",
        "        self.perm = torch.arange(32*32) if perm is None else perm\n",
        "        \n",
        "        self.vocab_size = clusters.size(0)\n",
        "        self.block_size = 32*32 - 1\n",
        "        \n",
        "    def __len__(self):\n",
        "        return len(self.pt_dataset)\n",
        "\n",
        "    def __getitem__(self, idx):\n",
        "        x, y = self.pt_dataset[idx]\n",
        "        x = torch.from_numpy(np.array(x)).view(-1, 3) # flatten out all pixels\n",
        "        x = x[self.perm].float() # reshuffle pixels with any fixed permutation and -> float\n",
        "        a = ((x[:, None, :] - self.clusters[None, :, :])**2).sum(-1).argmin(1) # cluster assignments\n",
        "        return a[:-1], a[1:] # always just predict the next one in the sequence\n",
        "\n",
        "train_dataset = ImageDataset(data, C)\n",
        "train_dataset[0][0] # one example image flattened out into integers"
      ],
      "execution_count": null,
      "outputs": [
        {
          "output_type": "execute_result",
          "data": {
            "text/plain": [
              "tensor([109, 102,  21,  ...,   2,  28,  16])"
            ]
          },
          "metadata": {
            "tags": []
          },
          "execution_count": 10
        }
      ]
    },
    {
      "cell_type": "markdown",
      "metadata": {
        "id": "0MeBLDNJjA29"
      },
      "source": [
        "\n",
        "For reference, **iGPT-S** from the paper is:\n",
        "- batch size of 128 and trained for 1M terations\n",
        "- Adam lr 0.003 with betas = (0.9, 0.95)\n",
        "- learning rate is warmed up for one epoch, then decays to 0\n",
        "- did not use weight decay or dropout\n",
        "- `n_layer=24, n_head=8, n_embd=512`\n",
        "\n",
        "We will do something similar but slightly smaller, by about a half."
      ]
    },
    {
      "cell_type": "code",
      "metadata": {
        "id": "m1ZdHidcjA2-",
        "colab": {
          "base_uri": "https://localhost:8080/",
          "height": 34
        },
        "outputId": "4a8fc1a0-48b4-4d67-e56a-3476153e4f51"
      },
      "source": [
        "from mingpt.model import GPT, GPTConfig, GPT1Config\n",
        "\n",
        "# we'll do something a bit smaller\n",
        "# AJB: much smaller for the colab:\n",
        "n_head = 4 # was 8\n",
        "mconf = GPTConfig(train_dataset.vocab_size, train_dataset.block_size,\n",
        "                  embd_pdrop=0.0, resid_pdrop=0.0, attn_pdrop=0.0,\n",
        "                  n_layer=12, n_head=n_head, n_embd=256)\n",
        "model = GPT(mconf)"
      ],
      "execution_count": null,
      "outputs": [
        {
          "output_type": "stream",
          "text": [
            "08/23/2020 19:05:18 - INFO - mingpt.model -   number of parameters: 9.805056e+06\n"
          ],
          "name": "stderr"
        }
      ]
    },
    {
      "cell_type": "code",
      "metadata": {
        "id": "bdSbWmq9jA3B"
      },
      "source": [
        "from mingpt.trainer import Trainer, TrainerConfig\n",
        "\n",
        "\"\"\"\n",
        "Note that I am running on an 8-GPU V100 machine so each GPU has 32GB.\n",
        "If you don't have as many computational resources you have to bring down\n",
        "the batch_size until the model fits into your memory, and then you may\n",
        "also need to adjust the learning rate (e.g. decrease it a bit). Alternatively,\n",
        "you can use an even smaller model up above, bringing down the number of layers,\n",
        "number of heads, and the embedding size.\n",
        "\"\"\"\n",
        "\n",
        "tokens_per_epoch = len(data) * train_dataset.block_size\n",
        "train_epochs = 10 # way too little tbh, i'm just impatient. todo: run longer later\n",
        "\n",
        "# initialize a trainer instance and kick off training\n",
        "n = 1 # was 8\n",
        "lr = 3e-3 / 8.0 * n # unscale learning rate because of batch size change\n",
        "tconf = TrainerConfig(max_epochs=train_epochs, batch_size=16*n, learning_rate=lr,\n",
        "                      betas = (0.9, 0.95), weight_decay=0,\n",
        "                      lr_decay=True, warmup_tokens=tokens_per_epoch, final_tokens=train_epochs*tokens_per_epoch,\n",
        "                      num_workers=4)\n"
      ],
      "execution_count": null,
      "outputs": []
    },
    {
      "cell_type": "code",
      "metadata": {
        "id": "LCkG3XWaq7gd",
        "colab": {
          "base_uri": "https://localhost:8080/",
          "height": 175
        },
        "outputId": "5585ad3b-0e82-48e1-c260-3d23b7e83239"
      },
      "source": [
        "colab_task.connect_configuration(vars(mconf),name='model_config')\n",
        "colab_task.connect_configuration(vars(tconf),name='trainer_config')"
      ],
      "execution_count": null,
      "outputs": [
        {
          "output_type": "execute_result",
          "data": {
            "text/plain": [
              "{'batch_size': 16,\n",
              " 'betas': (0.9, 0.95),\n",
              " 'final_tokens': 511500000,\n",
              " 'learning_rate': 0.000375,\n",
              " 'lr_decay': True,\n",
              " 'max_epochs': 10,\n",
              " 'num_workers': 4,\n",
              " 'warmup_tokens': 51150000,\n",
              " 'weight_decay': 0}"
            ]
          },
          "metadata": {
            "tags": []
          },
          "execution_count": 13
        }
      ]
    },
    {
      "cell_type": "code",
      "metadata": {
        "id": "oSS2hkcvkVps",
        "colab": {
          "base_uri": "https://localhost:8080/",
          "height": 90
        },
        "outputId": "f22a8499-307c-46b0-97b4-c8a630c5d952"
      },
      "source": [
        "import gc\n",
        "gc.collect() \n",
        "trainer = Trainer(model, train_dataset, None, tconf)\n",
        "trainer.train()"
      ],
      "execution_count": null,
      "outputs": [
        {
          "output_type": "stream",
          "text": [
            "epoch 1 iter 2: train loss 4.87664. lr 3.600000e-07:   0%|          | 3/3125 [02:14<40:02:38, 46.18s/it]"
          ],
          "name": "stderr"
        },
        {
          "output_type": "stream",
          "text": [
            "TRAINS Monitor: Could not detect iteration reporting, falling back to iterations as seconds-from-start\n"
          ],
          "name": "stdout"
        },
        {
          "output_type": "stream",
          "text": [
            "epoch 1 iter 3: train loss 4.72661. lr 4.800000e-07:   0%|          | 4/3125 [02:56<38:53:06, 44.85s/it]"
          ],
          "name": "stderr"
        },
        {
          "output_type": "stream",
          "text": [
            "TRAINS Monitor: Reporting detected, reverting back to iteration based reporting\n"
          ],
          "name": "stdout"
        },
        {
          "output_type": "stream",
          "text": [
            "epoch 1 iter 86: train loss 4.46912. lr 1.044000e-05:   3%|▎         | 87/3125 [1:00:53<35:28:20, 42.03s/it]"
          ],
          "name": "stderr"
        }
      ]
    },
    {
      "cell_type": "code",
      "metadata": {
        "scrolled": false,
        "id": "lAc_92E7jA3E"
      },
      "source": [
        "# to sample we also have to technically \"train\" a separate model for the first token in the sequence\n",
        "# we are going to do so below simply by calculating and normalizing the histogram of the first token\n",
        "counts = torch.ones(ncluster) # start counts as 1 not zero, this is called \"smoothing\"\n",
        "rp = torch.randperm(len(train_dataset))\n",
        "nest = 5000 # how many images to use for the estimation\n",
        "for i in range(nest):\n",
        "    a, _ = train_dataset[int(rp[i])]\n",
        "    t = a[0].item() # index of first token in the sequence\n",
        "    counts[t] += 1\n",
        "prob = counts/counts.sum()"
      ],
      "execution_count": null,
      "outputs": []
    },
    {
      "cell_type": "code",
      "metadata": {
        "id": "eumPNmZWjA3I"
      },
      "source": [
        "%%time\n",
        "\n",
        "from mingpt.utils import sample\n",
        "\n",
        "n_samples = 32\n",
        "start_pixel = np.random.choice(np.arange(C.size(0)), size=(n_samples, 1), replace=True, p=prob)\n",
        "start_pixel = torch.from_numpy(start_pixel).to(trainer.device)\n",
        "pixels = sample(model, start_pixel, 32*32-1, temperature=1.0, sample=True, top_k=None)"
      ],
      "execution_count": null,
      "outputs": []
    },
    {
      "cell_type": "code",
      "metadata": {
        "id": "dV8UPUhujA3L"
      },
      "source": [
        "# for visualization we have to invert the permutation used to produce the pixels\n",
        "iperm = torch.argsort(train_dataset.perm)\n",
        "\n",
        "ncol = 8\n",
        "nrow = n_samples // ncol\n",
        "plt.figure(figsize=(20, 10))\n",
        "for i in range(n_samples):\n",
        "    pxi = pixels[i][iperm] # note: undo the encoding permutation\n",
        "    \n",
        "    plt.subplot(nrow, ncol, i+1)\n",
        "    plt.imshow(C[pxi].view(32, 32, 3).numpy().astype(np.uint8))\n",
        "    plt.axis('off')"
      ],
      "execution_count": null,
      "outputs": []
    },
    {
      "cell_type": "code",
      "metadata": {
        "id": "EDhZO-tpjA3O"
      },
      "source": [
        "# visualize some of the learned positional embeddings, maybe they contain structure\n",
        "plt.figure(figsize=(10, 10))\n",
        "nsee = 8*8\n",
        "ncol = 8\n",
        "nrow = nsee // ncol\n",
        "for i in range(nsee):\n",
        "    \n",
        "    ci = model.pos_emb.data[0, :, i].cpu()\n",
        "    zci = torch.cat((torch.tensor([0.0]), ci)) # pre-cat a zero\n",
        "    rzci = zci[iperm] # undo the permutation to recover the pixel space of the image\n",
        "    \n",
        "    plt.subplot(nrow, ncol, i+1)\n",
        "    plt.imshow(rzci.view(32, 32).numpy())\n",
        "    plt.axis('off')"
      ],
      "execution_count": null,
      "outputs": []
    },
    {
      "cell_type": "code",
      "metadata": {
        "id": "QF4x3EbejA3R"
      },
      "source": [
        "# huh, pretty cool! :P"
      ],
      "execution_count": null,
      "outputs": []
    }
  ]
}